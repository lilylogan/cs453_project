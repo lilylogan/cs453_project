{
 "cells": [
  {
   "cell_type": "code",
   "execution_count": 1,
   "metadata": {},
   "outputs": [],
   "source": [
    "import pandas as pd\n",
    "import numpy as np\n",
    "from sklearn.preprocessing import MinMaxScaler\n",
    "from scipy.spatial.distance import euclidean\n",
    "\n",
    "# Loading dataset\n",
    "songs_df = pd.read_csv(\"cleaned_data/songs_cleaned.csv\")\n",
    "\n",
    "# Selecting attributes/features to be included in similarity calculation \n",
    "features = ['danceability', 'energy', 'loudness', 'speechiness', 'acousticness', \n",
    "            'instrumentalness', 'liveness', 'valence', 'tempo', 'duration_ms']\n",
    "\n",
    "# Normalize features (0-1 range)\n",
    "scaler = MinMaxScaler()\n",
    "songs_df_scaled = songs_df.copy()\n",
    "songs_df_scaled[features] = scaler.fit_transform(songs_df[features])"
   ]
  },
  {
   "cell_type": "code",
   "execution_count": 2,
   "metadata": {},
   "outputs": [
    {
     "data": {
      "text/plain": [
       "track_name\n",
       "Heaven                    6\n",
       "You                       6\n",
       "One                       5\n",
       "Stay                      5\n",
       "Changes                   5\n",
       "                         ..\n",
       "There Was A Time          1\n",
       "Since I Don't Have You    1\n",
       "Civil War                 1\n",
       "Double Talkin' Jive       1\n",
       "If The World              1\n",
       "Name: count, Length: 8107, dtype: int64"
      ]
     },
     "execution_count": 2,
     "metadata": {},
     "output_type": "execute_result"
    }
   ],
   "source": [
    "songs_df[\"track_name\"].value_counts()"
   ]
  },
  {
   "cell_type": "code",
   "execution_count": 3,
   "metadata": {},
   "outputs": [],
   "source": [
    "# Altering function to take a playlist an input \n",
    "\n",
    "\n",
    "# Function that takes single input song and outputs similar songs using Euclidean distance\n",
    "def recommend_songs_from_playlist(playlist, top_n=5):\n",
    "\n",
    "    if len(playlist) < 1:\n",
    "        return \"Playlist empty\"\n",
    "    \n",
    "    # Making sure all songs in playlist are in database\n",
    "    for song in playlist:\n",
    "        if song not in songs_df_scaled['track_name'].values:\n",
    "            return f\"Song {song} not found in dataset.\"\n",
    "\n",
    "    # Getting average feature vector for the playlist\n",
    "    playlist_vector = songs_df_scaled[songs_df_scaled['track_name'].isin(playlist)][features].mean().values\n",
    "\n",
    "    # Removing playlist songs from song df (so the system doesn't recommend the input songs)\n",
    "    other_songs_df_scaled = songs_df_scaled[~songs_df_scaled['track_name'].isin(playlist)].copy()\n",
    "\n",
    "    # Computing distances to all other songs\n",
    "    other_songs_df_scaled.loc[:, 'distance'] = other_songs_df_scaled[features].apply(lambda x: euclidean(playlist_vector, x), axis=1)\n",
    "\n",
    "    # Getting top N closest songs \n",
    "    recommendations = other_songs_df_scaled.sort_values(by='distance')[1:top_n+1]\n",
    "\n",
    "    return recommendations[['track_name', 'track_artist', 'distance']]\n"
   ]
  },
  {
   "cell_type": "code",
   "execution_count": 7,
   "metadata": {},
   "outputs": [
    {
     "name": "stdout",
     "output_type": "stream",
     "text": [
      "                                   track_name  track_artist  distance\n",
      "8447                Deal Breaker - Dyro Remix       LOOPERS  0.080988\n",
      "8366                              Born To Run      Afrojack  0.103496\n",
      "8388                      People Of The Night   Dash Berlin  0.110972\n",
      "8134  You Are Like Nobody Else - Original Mix  Swanky Tunes  0.111028\n",
      "8480                                If I Fall   Cole Plante  0.118417\n"
     ]
    }
   ],
   "source": [
    "# Example(s)\n",
    "\n",
    "# NOTE: both examples outputted two different versions of a song; when we clean, \n",
    "# should we be sorting out duplicate song/artist combos? or is it all right? \n",
    "\n",
    "# Other NOTE: should we be inputting more than song names in playlists? \n",
    "# Multiple versions of \"Here Comes the Sun\", for example\n",
    "\n",
    "# playlist1 = [\"higher love\", \"sweet dreams (are made of this)\"]\n",
    "playlist1 = [\"Clarity\"]\n",
    "print(recommend_songs_from_playlist(playlist1, top_n=5))\n",
    "\n",
    "\n",
    "# playlist2 = [\"lose yourself to dance\", \"stole the show\", \"barbie girl\"]\n",
    "# print(recommend_songs_from_playlist(playlist2, top_n=5))\n"
   ]
  }
 ],
 "metadata": {
  "kernelspec": {
   "display_name": "Python 3",
   "language": "python",
   "name": "python3"
  },
  "language_info": {
   "codemirror_mode": {
    "name": "ipython",
    "version": 3
   },
   "file_extension": ".py",
   "mimetype": "text/x-python",
   "name": "python",
   "nbconvert_exporter": "python",
   "pygments_lexer": "ipython3",
   "version": "3.11.2"
  }
 },
 "nbformat": 4,
 "nbformat_minor": 2
}
