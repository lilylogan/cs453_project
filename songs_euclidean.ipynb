{
 "cells": [
  {
   "cell_type": "code",
   "execution_count": null,
   "metadata": {},
   "outputs": [
    {
     "name": "stdout",
     "output_type": "stream",
     "text": [
      "              track_name  track_artist  distance\n",
      "11001  Hey There Delilah  Manuel Costa  0.082604\n",
      "159               For Me        WAPLAN  0.084941\n",
      "11222     September Song     JP Cooper  0.107912\n",
      "16499             Famous     Selah Sue  0.109950\n",
      "13176               Eres    Un Corazón  0.112126\n"
     ]
    }
   ],
   "source": [
    "import pandas as pd\n",
    "import numpy as np\n",
    "from sklearn.preprocessing import MinMaxScaler\n",
    "from scipy.spatial.distance import euclidean\n",
    "\n",
    "# Loading dataset\n",
    "songs_df = pd.read_csv(\"cleaned_data/songs_cleaned.csv\")\n",
    "\n",
    "# Selecting attributes/features to be included in similarity calculation \n",
    "features = ['danceability', 'energy', 'loudness', 'speechiness', 'acousticness', \n",
    "            'instrumentalness', 'liveness', 'valence', 'tempo', 'duration_ms']\n",
    "\n",
    "# Normalize features (0-1 range)\n",
    "scaler = MinMaxScaler()\n",
    "songs_df_scaled = songs_df.copy()\n",
    "songs_df_scaled[features] = scaler.fit_transform(songs_df[features])\n",
    "\n",
    "# Function that takes input song and outputs similar songs using Euclidean distance\n",
    "def recommend_songs(song_name, top_n=5):\n",
    "    if song_name not in songs_df_scaled['track_name'].values:\n",
    "        return \"Song not found in dataset.\"\n",
    "\n",
    "    # Getting feature vector of the input song\n",
    "    song_vector = songs_df_scaled[songs_df_scaled['track_name'] == song_name][features].values[0]\n",
    "\n",
    "    # Taking current song out of the song df (so the system doesn't recommend the input song)\n",
    "    other_songs_df_scaled = songs_df_scaled[songs_df_scaled['track_name'] != song_name].copy()\n",
    "\n",
    "    # Computing distances to all other songs\n",
    "    other_songs_df_scaled['distance'] = other_songs_df_scaled[features].apply(lambda x: euclidean(song_vector, x), axis=1)\n",
    "\n",
    "    # Getting top N closest songs \n",
    "    recommendations = other_songs_df_scaled.sort_values(by='distance')[1:top_n+1]\n",
    "\n",
    "    return recommendations[['track_name', 'track_artist', 'distance']]\n"
   ]
  },
  {
   "cell_type": "code",
   "execution_count": null,
   "metadata": {},
   "outputs": [],
   "source": [
    "# Example(s):\n",
    "recommended_songs = recommend_songs(\"Higher Love\", top_n=5)\n",
    "print(recommended_songs)"
   ]
  }
 ],
 "metadata": {
  "kernelspec": {
   "display_name": "Python 3",
   "language": "python",
   "name": "python3"
  },
  "language_info": {
   "codemirror_mode": {
    "name": "ipython",
    "version": 3
   },
   "file_extension": ".py",
   "mimetype": "text/x-python",
   "name": "python",
   "nbconvert_exporter": "python",
   "pygments_lexer": "ipython3",
   "version": "3.13.0"
  }
 },
 "nbformat": 4,
 "nbformat_minor": 2
}
