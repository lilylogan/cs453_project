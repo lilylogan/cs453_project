{
 "cells": [
  {
   "cell_type": "code",
   "execution_count": null,
   "metadata": {},
   "outputs": [],
   "source": [
    "import pandas as pd\n",
    "import numpy as np\n",
    "from sklearn.preprocessing import MinMaxScaler\n",
    "from scipy.spatial.distance import euclidean\n",
    "\n",
    "# Loading dataset\n",
    "songs_df = pd.read_csv(\"cleaned_data/songs_cleaned.csv\")\n",
    "\n",
    "# Selecting attributes/features to be included in similarity calculation \n",
    "features = ['danceability', 'energy', 'loudness', 'speechiness', 'acousticness', \n",
    "            'instrumentalness', 'liveness', 'valence', 'tempo', 'duration_ms']\n",
    "\n",
    "# Normalize features (0-1 range)\n",
    "scaler = MinMaxScaler()\n",
    "songs_df_scaled = songs_df.copy()\n",
    "songs_df_scaled[features] = scaler.fit_transform(songs_df[features])"
   ]
  },
  {
   "cell_type": "code",
   "execution_count": 12,
   "metadata": {},
   "outputs": [],
   "source": [
    "# Altering function to take a playlist an input \n",
    "\n",
    "\n",
    "# Function that takes single input song and outputs similar songs using Euclidean distance\n",
    "def recommend_songs_from_playlist(playlist, top_n=5):\n",
    "\n",
    "    if len(playlist) < 1:\n",
    "        return \"Playlist empty\"\n",
    "    \n",
    "    # Making sure all songs in playlist are in database\n",
    "    for song in playlist:\n",
    "        if song not in songs_df_scaled['track_name'].values:\n",
    "            return f\"Song {song} not found in dataset.\"\n",
    "\n",
    "    # Getting average feature vector for the playlist\n",
    "    playlist_vector = songs_df_scaled[songs_df_scaled['track_name'].isin(playlist)][features].mean().values\n",
    "\n",
    "    # Removing playlist songs from song df (so the system doesn't recommend the input songs)\n",
    "    other_songs_df_scaled = songs_df_scaled[~songs_df_scaled['track_name'].isin(playlist)].copy()\n",
    "\n",
    "    # Computing distances to all other songs\n",
    "    other_songs_df_scaled.loc[:, 'distance'] = other_songs_df_scaled[features].apply(lambda x: euclidean(playlist_vector, x), axis=1)\n",
    "\n",
    "    # Getting top N closest songs \n",
    "    recommendations = other_songs_df_scaled.sort_values(by='distance')[1:top_n+1]\n",
    "\n",
    "    return recommendations[['track_name', 'track_artist', 'distance']]\n"
   ]
  },
  {
   "cell_type": "code",
   "execution_count": null,
   "metadata": {},
   "outputs": [
    {
     "name": "stdout",
     "output_type": "stream",
     "text": [
      "                 track_name    track_artist  distance\n",
      "3356   Stay a Little Longer     Lostboycrow  0.108815\n",
      "1307              Paparazzi       Lady Gaga  0.110252\n",
      "14382                  2 On         Tinashe  0.113623\n",
      "245              No Diggity  Campsite Dream  0.123341\n",
      "2941             No Diggity  Campsite Dream  0.123341\n",
      "                               track_name             track_artist  distance\n",
      "15844  Boy You Knock Me Out - Single Edit              Tatyana Ali  0.137060\n",
      "4988   They Reminisce Over You (T.R.O.Y.)  Pete Rock & C.L. Smooth  0.153421\n",
      "16678  They Reminisce Over You (T.R.O.Y.)  Pete Rock & C.L. Smooth  0.153421\n",
      "15059                      My Prerogative              Bobby Brown  0.154499\n",
      "15735                             Uhh Ahh              Boyz II Men  0.156093\n"
     ]
    }
   ],
   "source": [
    "# Example(s)\n",
    "\n",
    "# NOTE: both examples outputted two different versions of a song; when we clean, \n",
    "# should we be sorting out duplicate song/artist combos? or is it all right? \n",
    "\n",
    "# Other NOTE: should we be inputting more than song names in playlists? \n",
    "# Multiple versions of \"Here Comes the Sun\", for example\n",
    "\n",
    "playlist1 = [\"Higher Love\", \"Sweet Dreams (Are Made of This)\"]\n",
    "print(recommend_songs_from_playlist(playlist1, top_n=5))\n",
    "\n",
    "playlist2 = [\"Lose Yourself to Dance\", \"Stole the Show\", \"Barbie Girl\"]\n",
    "print(recommend_songs_from_playlist(playlist2, top_n=5))\n"
   ]
  }
 ],
 "metadata": {
  "kernelspec": {
   "display_name": "Python 3",
   "language": "python",
   "name": "python3"
  },
  "language_info": {
   "codemirror_mode": {
    "name": "ipython",
    "version": 3
   },
   "file_extension": ".py",
   "mimetype": "text/x-python",
   "name": "python",
   "nbconvert_exporter": "python",
   "pygments_lexer": "ipython3",
   "version": "3.13.0"
  }
 },
 "nbformat": 4,
 "nbformat_minor": 2
}
