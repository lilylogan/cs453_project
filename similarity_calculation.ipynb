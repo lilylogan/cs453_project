{
 "cells": [
  {
   "cell_type": "code",
   "execution_count": null,
   "metadata": {},
   "outputs": [],
   "source": [
    "import pandas as pd\n",
    "import numpy as np\n",
    "from scipy.spatial.distance import euclidean\n",
    "from sklearn.metrics.pairwise import cosine_similarity\n",
    "\n",
    "# import import_ipynb # an extension that allows me to import a ipynb file \n",
    "from mf import *\n",
    "from knn import *"
   ]
  },
  {
   "cell_type": "code",
   "execution_count": null,
   "metadata": {},
   "outputs": [],
   "source": [
    "# # Getting KNN and MF song recommendations\n",
    "\n",
    "# # Test / example user input \n",
    "# playlist_knn = [\"million years _ gareth emery\", \"fool's gold _ jill scott\", \"firefly _ breaking benjamin\"]\n",
    "# playlist_mf = [\"firefly _ breaking benjamin\", \"greyhound _ swedish house mafia\", \"girlfriend _ bobby brown\"]\n",
    "\n",
    "# user_songs = ['greyhound _ swedish house mafia', 'saturday night _ the herbaliser', 'time to pretend _ mgmt']\n",
    "\n",
    "# playlist_mf = mf_recommender(user_songs, 20)\n",
    "# playlist_knn = knn_recommender(user_songs, 20)\n",
    "\n",
    "# print(\"MF Recommended Songs:\", playlist_mf)\n",
    "# print(\"KNN Recommended Songs:\", playlist_knn)\n"
   ]
  },
  {
   "cell_type": "markdown",
   "metadata": {},
   "source": [
    "# songs attribute dataset"
   ]
  },
  {
   "cell_type": "code",
   "execution_count": 9,
   "metadata": {},
   "outputs": [
    {
     "name": "stdout",
     "output_type": "stream",
     "text": [
      "Loaded 8516 songs into feature dictionary.\n"
     ]
    }
   ],
   "source": [
    "# Load dataset\n",
    "df = pd.read_csv(\"cleaned_data/songs_cleaned.csv\")\n",
    "\n",
    "# Select numerical features for similarity comparison\n",
    "feature_columns = [\n",
    "    \"danceability\", \"energy\", \"key\", \"loudness\", \"mode\", \"speechiness\", \n",
    "    \"acousticness\", \"instrumentalness\", \"liveness\", \"valence\", \"tempo\"\n",
    "]\n",
    "\n",
    "# Create a dictionary mapping 'track_key' to its numerical feature vector\n",
    "song_feature_dict = {\n",
    "    row[\"track_key\"]: row[feature_columns].values.astype(float)\n",
    "    for _, row in df.iterrows()\n",
    "}\n",
    "\n",
    "print(f\"Loaded {len(song_feature_dict)} songs into feature dictionary.\")\n"
   ]
  },
  {
   "cell_type": "markdown",
   "metadata": {},
   "source": [
    "# average the vector of the recommended playlists"
   ]
  },
  {
   "cell_type": "code",
   "execution_count": 10,
   "metadata": {},
   "outputs": [],
   "source": [
    "def get_average_vector(song_list, feature_dict):\n",
    "    \"\"\"\n",
    "    Converts a list of song titles into an average feature vector\n",
    "\n",
    "    Parameters:\n",
    "        song_list (list): List of recommended songs\n",
    "        feature_dict (dict): Dictionary mapping song titles to feature vectors\n",
    "\n",
    "    Returns:\n",
    "        np.array: Averaged feature vector\n",
    "    \"\"\"\n",
    "    vectors = [feature_dict[song] for song in song_list if song in feature_dict]\n",
    "    \n",
    "    if not vectors:\n",
    "        return np.zeros(len(next(iter(feature_dict.values()))))  # Return zero vector if no matches\n",
    "\n",
    "    return np.mean(vectors, axis=0)\n",
    "\n",
    "# Compute vectors for both recommended playlists \n",
    "# knn_vector = get_average_vector(playlist_knn, song_feature_dict)\n",
    "# mf_vector = get_average_vector(playlist_mf, song_feature_dict)\n"
   ]
  },
  {
   "cell_type": "markdown",
   "metadata": {},
   "source": [
    "# Min-Max Normalization of Euclidean Distsance"
   ]
  },
  {
   "cell_type": "code",
   "execution_count": 11,
   "metadata": {},
   "outputs": [],
   "source": [
    "# Min-Max Normalization of Euclidean Distance \n",
    "# Min-Max scaling is more accurate than Max-Distance Scaling because it considers dataset-wide min/max\n",
    "\n",
    "\n",
    "def normalize_euclidean_distance(songs_df, non_normal_euclidean, min_dist=0):\n",
    "    \"\"\"Auxiliary function to normalize a given euclidean distance calculation using min-max normalization\"\"\"\n",
    "    # min_dist estimating min distance (0 if two identical songs exist)\n",
    "\n",
    "    # Computing max possible Euclidean distance (worst case scenario)\n",
    "    feature_min = songs_df[feature_columns].min().values\n",
    "    feature_max = songs_df[feature_columns].max().values\n",
    "    max_dist = euclidean(feature_min, feature_max)\n",
    "    # Normalize distance\n",
    "    return (non_normal_euclidean - min_dist) / (max_dist - min_dist) if max_dist > min_dist else 0\n"
   ]
  },
  {
   "cell_type": "markdown",
   "metadata": {},
   "source": [
    "# simularity computation"
   ]
  },
  {
   "cell_type": "code",
   "execution_count": 12,
   "metadata": {},
   "outputs": [],
   "source": [
    "def compute_similarity(songs_df, vec1, vec2):\n",
    "    \"\"\"\n",
    "    Computes euclidean distance and cosine similarity between two feature vectors\n",
    "\n",
    "    Parameters:\n",
    "        vec1 (np.array): First feature vector\n",
    "        vec2 (np.array): Second feature vector\n",
    "\n",
    "    Returns:\n",
    "        tuple: euclidean distance cosine similarity\n",
    "    \"\"\"\n",
    "    euclidean_dist = euclidean(vec1, vec2)\n",
    "    normalized_euclidean_dist = normalize_euclidean_distance(songs_df, euclidean_dist)\n",
    "    cosine_sim = cosine_similarity(vec1.reshape(1, -1), vec2.reshape(1, -1))[0][0]\n",
    "    return euclidean_dist, normalized_euclidean_dist, cosine_sim\n",
    "\n",
    "# Compute similarity between KNN and MF recommendations\n",
    "# euclidean_dist, normalized_euclidean_dist, cosine_sim = compute_similarity(df, knn_vector, mf_vector)\n",
    "\n",
    "# print(f\"Euclidean Distance: {euclidean_dist:.4f}\")\n",
    "# print(f\"Normalized Euclidean Distance: {normalized_euclidean_dist:.4f}\")\n",
    "# print(f\"Cosine Similarity: {cosine_sim:.4f}\")\n"
   ]
  },
  {
   "cell_type": "markdown",
   "metadata": {},
   "source": [
    "# Jaccard similarity"
   ]
  },
  {
   "cell_type": "code",
   "execution_count": 13,
   "metadata": {},
   "outputs": [],
   "source": [
    "# Jaccard similarity ranges from 0 to 1; 1 means that two sets are exactly the same, \n",
    "# 0 means that the two sets do not have any element in common\n",
    "\n",
    "def jaccard_similarity(playlist_a, playlist_b):\n",
    "    set_a = set(playlist_a)\n",
    "    set_b = set(playlist_b)\n",
    "    \n",
    "    intersection = len(set_a & set_b)  # Tracks in both playlists\n",
    "    union = len(set_a | set_b)         # Unique tracks in either playlist\n",
    "    \n",
    "    return intersection / union if union != 0 else 0  # Avoid division by zero\n",
    "\n",
    "# # Test\n",
    "# similarity = jaccard_similarity(playlist_knn, playlist_mf)\n",
    "# print(f\"Jaccard Similarity: {similarity:.2f}\")\n",
    "\n"
   ]
  },
  {
   "cell_type": "markdown",
   "metadata": {},
   "source": [
    "# Experiment"
   ]
  },
  {
   "cell_type": "markdown",
   "metadata": {},
   "source": [
    "### Input: 1, 5, 10, ..., 50 songs as playlists\n",
    "### Output: 1, 5, 10, ..., 50 songs as a playlist"
   ]
  },
  {
   "cell_type": "markdown",
   "metadata": {},
   "source": [
    "## We want to compare these (euclidean, normalized euclidean, cosine, and jaccard)"
   ]
  },
  {
   "cell_type": "code",
   "execution_count": 14,
   "metadata": {},
   "outputs": [],
   "source": [
    "# function to get the test playlists\n",
    "\n",
    "def user_sample_songs(s):\n",
    "    df = pd.read_csv(\"cleaned_data/songs_cleaned.csv\")\n",
    "\n",
    "    # get a sample of s songs from the dataset\n",
    "    playlist_df = df.sample(n=s)\n",
    "    \n",
    "    return playlist_df[\"track_key\"].tolist()\n"
   ]
  },
  {
   "cell_type": "code",
   "execution_count": 15,
   "metadata": {},
   "outputs": [],
   "source": [
    "# Getting KNN and MF song recommendations\n",
    "def knn_mf_recs(user_songs, r):\n",
    "    playlist_mf = mf_recommender(user_songs, r)\n",
    "    playlist_knn = knn_recommender(user_songs, r)\n",
    "\n",
    "    return playlist_knn, playlist_mf"
   ]
  },
  {
   "cell_type": "code",
   "execution_count": 19,
   "metadata": {},
   "outputs": [],
   "source": [
    "df_cols = [\"user playlist\", \"knn recs\", \"mf recs\", \"s\", \"r\", \"euclidean dist\", \n",
    "           \"normalized euclidean dist\", \"cosine sim\", \"jaccard sim\"]"
   ]
  },
  {
   "cell_type": "code",
   "execution_count": 20,
   "metadata": {},
   "outputs": [],
   "source": [
    "experiment_df = pd.DataFrame(columns=df_cols)"
   ]
  },
  {
   "cell_type": "code",
   "execution_count": 24,
   "metadata": {},
   "outputs": [],
   "source": [
    "def simulation(s, r):\n",
    "    # get the users playlist with s songs\n",
    "    user_playlist = user_sample_songs(s)\n",
    "\n",
    "    # get the r recommendations\n",
    "    knn_recs, mf_recs = knn_mf_recs(user_playlist, r)\n",
    "\n",
    "    # compute average vector from above\n",
    "    knn_averg_vector = get_average_vector(knn_recs, song_feature_dict)\n",
    "    mf_averg_vector = get_average_vector(mf_recs, song_feature_dict)\n",
    "\n",
    "    # compute similarity\n",
    "    euclidean_dist, normalized_euclidean_dist, cosine_sim = compute_similarity(df, knn_averg_vector, mf_averg_vector)\n",
    "    jaccard_sim = jaccard_similarity(knn_recs, mf_recs)\n",
    "\n",
    "    return [user_playlist, knn_recs, mf_recs, s, r, euclidean_dist, normalized_euclidean_dist, cosine_sim, jaccard_sim]"
   ]
  },
  {
   "cell_type": "markdown",
   "metadata": {},
   "source": [
    "#### example of how this is gonna work using s = 1 and r = 1"
   ]
  },
  {
   "cell_type": "code",
   "execution_count": 25,
   "metadata": {},
   "outputs": [
    {
     "name": "stdout",
     "output_type": "stream",
     "text": [
      "\n",
      "Recommended Songs:\n",
      "My Bag\n"
     ]
    }
   ],
   "source": [
    "sim = simulation(1, 1)"
   ]
  },
  {
   "cell_type": "code",
   "execution_count": 27,
   "metadata": {},
   "outputs": [],
   "source": [
    "experiment_df.loc[len(experiment_df)] = sim"
   ]
  },
  {
   "cell_type": "code",
   "execution_count": 28,
   "metadata": {},
   "outputs": [
    {
     "data": {
      "text/html": [
       "<div>\n",
       "<style scoped>\n",
       "    .dataframe tbody tr th:only-of-type {\n",
       "        vertical-align: middle;\n",
       "    }\n",
       "\n",
       "    .dataframe tbody tr th {\n",
       "        vertical-align: top;\n",
       "    }\n",
       "\n",
       "    .dataframe thead th {\n",
       "        text-align: right;\n",
       "    }\n",
       "</style>\n",
       "<table border=\"1\" class=\"dataframe\">\n",
       "  <thead>\n",
       "    <tr style=\"text-align: right;\">\n",
       "      <th></th>\n",
       "      <th>user playlist</th>\n",
       "      <th>knn recs</th>\n",
       "      <th>mf recs</th>\n",
       "      <th>s</th>\n",
       "      <th>r</th>\n",
       "      <th>euclidean dist</th>\n",
       "      <th>normalized euclidean dist</th>\n",
       "      <th>cosine sim</th>\n",
       "      <th>jaccard sim</th>\n",
       "    </tr>\n",
       "  </thead>\n",
       "  <tbody>\n",
       "    <tr>\n",
       "      <th>0</th>\n",
       "      <td>[a mirage _ the essence]</td>\n",
       "      <td>[my bag _ lloyd cole and the commotions]</td>\n",
       "      <td>[the addict _ bo saris]</td>\n",
       "      <td>1</td>\n",
       "      <td>1</td>\n",
       "      <td>17.755155</td>\n",
       "      <td>0.09822</td>\n",
       "      <td>0.997409</td>\n",
       "      <td>0.0</td>\n",
       "    </tr>\n",
       "  </tbody>\n",
       "</table>\n",
       "</div>"
      ],
      "text/plain": [
       "              user playlist                                  knn recs  \\\n",
       "0  [a mirage _ the essence]  [my bag _ lloyd cole and the commotions]   \n",
       "\n",
       "                   mf recs  s  r  euclidean dist  normalized euclidean dist  \\\n",
       "0  [the addict _ bo saris]  1  1       17.755155                    0.09822   \n",
       "\n",
       "   cosine sim  jaccard sim  \n",
       "0    0.997409          0.0  "
      ]
     },
     "execution_count": 28,
     "metadata": {},
     "output_type": "execute_result"
    }
   ],
   "source": [
    "experiment_df"
   ]
  },
  {
   "cell_type": "markdown",
   "metadata": {},
   "source": [
    "#### now doing s = 5, 10, ..., 50 and r = 5, 10, ..., 50 (this is s*r times meaning 100 times - i think)"
   ]
  },
  {
   "cell_type": "code",
   "execution_count": null,
   "metadata": {},
   "outputs": [],
   "source": [
    "c = 0\n",
    "for i in range(5, 51, 5):\n",
    "    for j in range(5, 51, 5):\n",
    "        sim = simulation(i, j)\n",
    "        experiment_df.loc[len(experiment_df)] = sim\n",
    "        c+=1\n",
    "        print(c)"
   ]
  },
  {
   "cell_type": "code",
   "execution_count": 31,
   "metadata": {},
   "outputs": [],
   "source": [
    "experiment_df.to_csv(\"similarities.csv\", index=False)"
   ]
  },
  {
   "cell_type": "code",
   "execution_count": 32,
   "metadata": {},
   "outputs": [
    {
     "data": {
      "text/html": [
       "<div>\n",
       "<style scoped>\n",
       "    .dataframe tbody tr th:only-of-type {\n",
       "        vertical-align: middle;\n",
       "    }\n",
       "\n",
       "    .dataframe tbody tr th {\n",
       "        vertical-align: top;\n",
       "    }\n",
       "\n",
       "    .dataframe thead th {\n",
       "        text-align: right;\n",
       "    }\n",
       "</style>\n",
       "<table border=\"1\" class=\"dataframe\">\n",
       "  <thead>\n",
       "    <tr style=\"text-align: right;\">\n",
       "      <th></th>\n",
       "      <th>user playlist</th>\n",
       "      <th>knn recs</th>\n",
       "      <th>mf recs</th>\n",
       "      <th>s</th>\n",
       "      <th>r</th>\n",
       "      <th>euclidean dist</th>\n",
       "      <th>normalized euclidean dist</th>\n",
       "      <th>cosine sim</th>\n",
       "      <th>jaccard sim</th>\n",
       "    </tr>\n",
       "  </thead>\n",
       "  <tbody>\n",
       "    <tr>\n",
       "      <th>0</th>\n",
       "      <td>[a mirage _ the essence]</td>\n",
       "      <td>[my bag _ lloyd cole and the commotions]</td>\n",
       "      <td>[the addict _ bo saris]</td>\n",
       "      <td>1</td>\n",
       "      <td>1</td>\n",
       "      <td>17.755155</td>\n",
       "      <td>0.098220</td>\n",
       "      <td>0.997409</td>\n",
       "      <td>0.0</td>\n",
       "    </tr>\n",
       "    <tr>\n",
       "      <th>1</th>\n",
       "      <td>[one in a million _ aaliyah, honey love _ r. k...</td>\n",
       "      <td>[piedra _ caifanes, twork it out _ usher, nigh...</td>\n",
       "      <td>[the kids (feat. janelle monáe) _ b.o.b, honey...</td>\n",
       "      <td>5</td>\n",
       "      <td>5</td>\n",
       "      <td>7.129031</td>\n",
       "      <td>0.039437</td>\n",
       "      <td>0.999333</td>\n",
       "      <td>0.0</td>\n",
       "    </tr>\n",
       "    <tr>\n",
       "      <th>2</th>\n",
       "      <td>[freeloader - spencer &amp; hill radio edit _ dave...</td>\n",
       "      <td>[flashlight _ r3hab, hair of the dog _ nazaret...</td>\n",
       "      <td>[close to me - remastered _ the cure, without ...</td>\n",
       "      <td>5</td>\n",
       "      <td>10</td>\n",
       "      <td>13.306499</td>\n",
       "      <td>0.073610</td>\n",
       "      <td>0.999937</td>\n",
       "      <td>0.0</td>\n",
       "    </tr>\n",
       "    <tr>\n",
       "      <th>3</th>\n",
       "      <td>[let's straighten it out _ latimore, little ga...</td>\n",
       "      <td>[boom, boom, boom _ willie clayton, is this lo...</td>\n",
       "      <td>[la gozadera _ gente de zona, awa adounia _ li...</td>\n",
       "      <td>5</td>\n",
       "      <td>15</td>\n",
       "      <td>2.584997</td>\n",
       "      <td>0.014300</td>\n",
       "      <td>0.999828</td>\n",
       "      <td>0.0</td>\n",
       "    </tr>\n",
       "    <tr>\n",
       "      <th>4</th>\n",
       "      <td>[eyes wide open _ sabrina carpenter, rock and ...</td>\n",
       "      <td>[make your mark _ drew ryan scott, liquid conf...</td>\n",
       "      <td>[eyes wide open _ sabrina carpenter, babylon (...</td>\n",
       "      <td>5</td>\n",
       "      <td>20</td>\n",
       "      <td>11.995161</td>\n",
       "      <td>0.066356</td>\n",
       "      <td>0.999383</td>\n",
       "      <td>0.0</td>\n",
       "    </tr>\n",
       "  </tbody>\n",
       "</table>\n",
       "</div>"
      ],
      "text/plain": [
       "                                       user playlist  \\\n",
       "0                           [a mirage _ the essence]   \n",
       "1  [one in a million _ aaliyah, honey love _ r. k...   \n",
       "2  [freeloader - spencer & hill radio edit _ dave...   \n",
       "3  [let's straighten it out _ latimore, little ga...   \n",
       "4  [eyes wide open _ sabrina carpenter, rock and ...   \n",
       "\n",
       "                                            knn recs  \\\n",
       "0           [my bag _ lloyd cole and the commotions]   \n",
       "1  [piedra _ caifanes, twork it out _ usher, nigh...   \n",
       "2  [flashlight _ r3hab, hair of the dog _ nazaret...   \n",
       "3  [boom, boom, boom _ willie clayton, is this lo...   \n",
       "4  [make your mark _ drew ryan scott, liquid conf...   \n",
       "\n",
       "                                             mf recs  s   r  euclidean dist  \\\n",
       "0                            [the addict _ bo saris]  1   1       17.755155   \n",
       "1  [the kids (feat. janelle monáe) _ b.o.b, honey...  5   5        7.129031   \n",
       "2  [close to me - remastered _ the cure, without ...  5  10       13.306499   \n",
       "3  [la gozadera _ gente de zona, awa adounia _ li...  5  15        2.584997   \n",
       "4  [eyes wide open _ sabrina carpenter, babylon (...  5  20       11.995161   \n",
       "\n",
       "   normalized euclidean dist  cosine sim  jaccard sim  \n",
       "0                   0.098220    0.997409          0.0  \n",
       "1                   0.039437    0.999333          0.0  \n",
       "2                   0.073610    0.999937          0.0  \n",
       "3                   0.014300    0.999828          0.0  \n",
       "4                   0.066356    0.999383          0.0  "
      ]
     },
     "execution_count": 32,
     "metadata": {},
     "output_type": "execute_result"
    }
   ],
   "source": [
    "experiment_df.head()"
   ]
  },
  {
   "cell_type": "code",
   "execution_count": null,
   "metadata": {},
   "outputs": [],
   "source": [
    "for i in range(5, 51, 5):\n",
    "    sim = simulation(1, i)\n",
    "    experiment_df.loc[len(experiment_df)] = sim\n",
    "    print(i)"
   ]
  },
  {
   "cell_type": "code",
   "execution_count": 35,
   "metadata": {},
   "outputs": [],
   "source": [
    "experiment_df.to_csv(\"similarities.csv\", index=False)"
   ]
  },
  {
   "cell_type": "code",
   "execution_count": null,
   "metadata": {},
   "outputs": [],
   "source": [
    "for j in range(5, 51, 5):\n",
    "    sim = simulation(j, 1)\n",
    "    experiment_df.loc[len(experiment_df)] = sim\n",
    "    print(j)"
   ]
  },
  {
   "cell_type": "code",
   "execution_count": 37,
   "metadata": {},
   "outputs": [],
   "source": [
    "experiment_df.to_csv(\"similarities.csv\", index=False)"
   ]
  },
  {
   "cell_type": "code",
   "execution_count": 38,
   "metadata": {},
   "outputs": [
    {
     "data": {
      "text/plain": [
       "121"
      ]
     },
     "execution_count": 38,
     "metadata": {},
     "output_type": "execute_result"
    }
   ],
   "source": [
    "len(experiment_df)"
   ]
  }
 ],
 "metadata": {
  "kernelspec": {
   "display_name": "Python 3",
   "language": "python",
   "name": "python3"
  },
  "language_info": {
   "codemirror_mode": {
    "name": "ipython",
    "version": 3
   },
   "file_extension": ".py",
   "mimetype": "text/x-python",
   "name": "python",
   "nbconvert_exporter": "python",
   "pygments_lexer": "ipython3",
   "version": "3.11.2"
  }
 },
 "nbformat": 4,
 "nbformat_minor": 2
}
