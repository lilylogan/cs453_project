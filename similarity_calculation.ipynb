{
 "cells": [
  {
   "cell_type": "code",
   "execution_count": 24,
   "metadata": {},
   "outputs": [],
   "source": [
    "import pandas as pd\n",
    "import numpy as np\n",
    "from scipy.spatial.distance import euclidean\n",
    "from sklearn.metrics.pairwise import cosine_similarity\n",
    "\n",
    "# import import_ipynb # an extension that allows me to import a ipynb file \n",
    "from mf import *\n",
    "from knn import *"
   ]
  },
  {
   "cell_type": "code",
   "execution_count": null,
   "metadata": {},
   "outputs": [],
   "source": [
    "# function to get the test playlists\n",
    "\n",
    "def user_sample_songs(s):\n",
    "    df = pd.read_csv(\"cleaned_data/songs_cleaned.csv\")\n",
    "\n",
    "    # get a sample of s songs from the dataset\n",
    "    playlist_df = df.sample(n=s)\n",
    "    \n",
    "    return playlist_df[\"track_key\"].tolist()\n"
   ]
  },
  {
   "cell_type": "code",
   "execution_count": null,
   "metadata": {},
   "outputs": [],
   "source": [
    "# get the playlists to test\n",
    "\n",
    "test_playlists = []\n",
    "\n",
    "test_playlists.append(user_sample_songs(1))\n",
    "\n",
    "for i in range(5, 51, 5):\n",
    "    test_playlists.append(user_sample_songs(i))"
   ]
  },
  {
   "cell_type": "code",
   "execution_count": 26,
   "metadata": {},
   "outputs": [],
   "source": [
    "# Getting KNN and MF song recommendations\n",
    "def knn_mf_recs(user_songs, r):\n",
    "    playlist_mf = mf_recommender(user_songs, r)\n",
    "    playlist_knn = knn_recommender(user_songs, r)\n",
    "\n",
    "    return playlist_knn, playlist_mf"
   ]
  },
  {
   "cell_type": "code",
   "execution_count": null,
   "metadata": {},
   "outputs": [],
   "source": [
    "# Getting KNN and MF song recommendations\n",
    "\n",
    "# Test / example user input \n",
    "playlist_knn = [\"million years _ gareth emery\", \"fool's gold _ jill scott\", \"firefly _ breaking benjamin\"]\n",
    "playlist_mf = [\"firefly _ breaking benjamin\", \"greyhound _ swedish house mafia\", \"girlfriend _ bobby brown\"]\n",
    "\n",
    "user_songs = ['greyhound _ swedish house mafia', 'saturday night _ the herbaliser', 'time to pretend _ mgmt']\n",
    "\n",
    "playlist_mf = mf_recommender(user_songs, 20)\n",
    "playlist_knn = knn_recommender(user_songs, 20)\n",
    "\n",
    "print(\"MF Recommended Songs:\", playlist_mf)\n",
    "print(\"KNN Recommended Songs:\", playlist_knn)\n"
   ]
  },
  {
   "cell_type": "code",
   "execution_count": null,
   "metadata": {},
   "outputs": [
    {
     "name": "stdout",
     "output_type": "stream",
     "text": [
      "Loaded 100 songs into feature dictionary.\n"
     ]
    }
   ],
   "source": [
    "# Load dataset\n",
    "df = pd.read_csv(\"cleaned_data/songs_cleaned.csv\")\n",
    "\n",
    "# Select numerical features for similarity comparison\n",
    "feature_columns = [\n",
    "    \"danceability\", \"energy\", \"key\", \"loudness\", \"mode\", \"speechiness\", \n",
    "    \"acousticness\", \"instrumentalness\", \"liveness\", \"valence\", \"tempo\"\n",
    "]\n",
    "\n",
    "# Create a dictionary mapping 'track_key' to its numerical feature vector\n",
    "song_feature_dict = {\n",
    "    row[\"track_key\"]: row[feature_columns].values.astype(float)\n",
    "    for _, row in df.iterrows()\n",
    "}\n",
    "\n",
    "print(f\"Loaded {len(song_feature_dict)} songs into feature dictionary.\")\n"
   ]
  },
  {
   "cell_type": "code",
   "execution_count": null,
   "metadata": {},
   "outputs": [],
   "source": [
    "def get_average_vector(song_list, feature_dict):\n",
    "    \"\"\"\n",
    "    Converts a list of song titles into an average feature vector\n",
    "\n",
    "    Parameters:\n",
    "        song_list (list): List of recommended songs\n",
    "        feature_dict (dict): Dictionary mapping song titles to feature vectors\n",
    "\n",
    "    Returns:\n",
    "        np.array: Averaged feature vector\n",
    "    \"\"\"\n",
    "    vectors = [feature_dict[song] for song in song_list if song in feature_dict]\n",
    "    \n",
    "    if not vectors:\n",
    "        return np.zeros(len(next(iter(feature_dict.values()))))  # Return zero vector if no matches\n",
    "\n",
    "    return np.mean(vectors, axis=0)\n",
    "\n",
    "# Compute vectors for both recommended playlists \n",
    "# knn_vector = get_average_vector(playlist_knn, song_feature_dict)\n",
    "# mf_vector = get_average_vector(playlist_mf, song_feature_dict)\n"
   ]
  },
  {
   "cell_type": "code",
   "execution_count": null,
   "metadata": {},
   "outputs": [],
   "source": [
    "# Min-Max Normalization of Euclidean Distance \n",
    "# Min-Max scaling is more accurate than Max-Distance Scaling because it considers dataset-wide min/max\n",
    "\n",
    "\n",
    "def normalize_euclidean_distance(songs_df, non_normal_euclidean, min_dist=0):\n",
    "    \"\"\"Auxiliary function to normalize a given euclidean distance calculation using min-max normalization\"\"\"\n",
    "    # min_dist estimating min distance (0 if two identical songs exist)\n",
    "\n",
    "    # Computing max possible Euclidean distance (worst case scenario)\n",
    "    feature_min = songs_df[feature_columns].min().values\n",
    "    feature_max = songs_df[feature_columns].max().values\n",
    "    max_dist = euclidean(feature_min, feature_max)\n",
    "    # Normalize distance\n",
    "    return (non_normal_euclidean - min_dist) / (max_dist - min_dist) if max_dist > min_dist else 0\n"
   ]
  },
  {
   "cell_type": "code",
   "execution_count": 36,
   "metadata": {},
   "outputs": [
    {
     "name": "stdout",
     "output_type": "stream",
     "text": [
      "Euclidean Distance: 15.2409\n",
      "Normalized Euclidean Distance: 0.0843\n",
      "Cosine Similarity: 0.9998\n"
     ]
    }
   ],
   "source": [
    "def compute_similarity(songs_df, vec1, vec2):\n",
    "    \"\"\"\n",
    "    Computes euclidean distance and cosine similarity between two feature vectors\n",
    "\n",
    "    Parameters:\n",
    "        vec1 (np.array): First feature vector\n",
    "        vec2 (np.array): Second feature vector\n",
    "\n",
    "    Returns:\n",
    "        tuple: euclidean distance cosine similarity\n",
    "    \"\"\"\n",
    "    euclidean_dist = euclidean(vec1, vec2)\n",
    "    normalized_euclidean_dist = normalize_euclidean_distance(songs_df, euclidean_dist)\n",
    "    cosine_sim = cosine_similarity(vec1.reshape(1, -1), vec2.reshape(1, -1))[0][0]\n",
    "    return euclidean_dist, normalized_euclidean_dist, cosine_sim\n",
    "\n",
    "# Compute similarity between KNN and MF recommendations\n",
    "euclidean_dist, normalized_euclidean_dist, cosine_sim = compute_similarity(df, knn_vector, mf_vector)\n",
    "\n",
    "print(f\"Euclidean Distance: {euclidean_dist:.4f}\")\n",
    "print(f\"Normalized Euclidean Distance: {normalized_euclidean_dist:.4f}\")\n",
    "print(f\"Cosine Similarity: {cosine_sim:.4f}\")\n"
   ]
  },
  {
   "cell_type": "code",
   "execution_count": 37,
   "metadata": {},
   "outputs": [
    {
     "name": "stdout",
     "output_type": "stream",
     "text": [
      "Jaccard Similarity: 0.00\n"
     ]
    }
   ],
   "source": [
    "# Jaccard similarity ranges from 0 to 1; 1 means that two sets are exactly the same, \n",
    "# 0 means that the two sets do not have any element in common\n",
    "\n",
    "def jaccard_similarity(playlist_a, playlist_b):\n",
    "    set_a = set(playlist_a)\n",
    "    set_b = set(playlist_b)\n",
    "    \n",
    "    intersection = len(set_a & set_b)  # Tracks in both playlists\n",
    "    union = len(set_a | set_b)         # Unique tracks in either playlist\n",
    "    \n",
    "    return intersection / union if union != 0 else 0  # Avoid division by zero\n",
    "\n",
    "# Test\n",
    "similarity = jaccard_similarity(playlist_knn, playlist_mf)\n",
    "print(f\"Jaccard Similarity: {similarity:.2f}\")\n",
    "\n"
   ]
  }
 ],
 "metadata": {
  "kernelspec": {
   "display_name": "Python 3",
   "language": "python",
   "name": "python3"
  },
  "language_info": {
   "codemirror_mode": {
    "name": "ipython",
    "version": 3
   },
   "file_extension": ".py",
   "mimetype": "text/x-python",
   "name": "python",
   "nbconvert_exporter": "python",
   "pygments_lexer": "ipython3",
   "version": "3.11.2"
  }
 },
 "nbformat": 4,
 "nbformat_minor": 2
}
