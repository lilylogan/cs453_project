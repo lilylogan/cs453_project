{
 "cells": [
  {
   "cell_type": "markdown",
   "metadata": {},
   "source": [
    "## Kylie's Code for Matrix Factorization"
   ]
  },
  {
   "cell_type": "code",
   "execution_count": 1,
   "metadata": {},
   "outputs": [],
   "source": [
    "import pandas as pd\n",
    "import numpy as np\n",
    "import random\n",
    "from sklearn.decomposition import TruncatedSVD\n",
    "from sklearn.model_selection import train_test_split\n"
   ]
  },
  {
   "cell_type": "code",
   "execution_count": 2,
   "metadata": {},
   "outputs": [],
   "source": [
    "NUM_PRED = 5"
   ]
  },
  {
   "cell_type": "code",
   "execution_count": 3,
   "metadata": {},
   "outputs": [
    {
     "data": {
      "text/plain": [
       "(15281, 13352)"
      ]
     },
     "execution_count": 3,
     "metadata": {},
     "output_type": "execute_result"
    }
   ],
   "source": [
    "df_songs = pd.read_csv(\"cleaned_data/csr_df.csv\")\n",
    "df_songs.shape"
   ]
  },
  {
   "cell_type": "code",
   "execution_count": 5,
   "metadata": {},
   "outputs": [
    {
     "name": "stdout",
     "output_type": "stream",
     "text": [
      "       Forget What I Said\n",
      "0                       0\n",
      "1                       0\n",
      "2                       0\n",
      "3                       0\n",
      "4                       0\n",
      "...                   ...\n",
      "15276                   0\n",
      "15277                   0\n",
      "15278                   0\n",
      "15279                   0\n",
      "15280                   0\n",
      "\n",
      "[15281 rows x 1 columns]\n"
     ]
    }
   ],
   "source": [
    "random_sample = df_songs.sample(axis='columns')\n",
    "print(random_sample)"
   ]
  },
  {
   "cell_type": "code",
   "execution_count": 6,
   "metadata": {},
   "outputs": [],
   "source": [
    "songs = df_songs.to_numpy()"
   ]
  },
  {
   "cell_type": "markdown",
   "metadata": {},
   "source": [
    "#### i think this doesn't do anything?"
   ]
  },
  {
   "cell_type": "code",
   "execution_count": 7,
   "metadata": {},
   "outputs": [],
   "source": [
    "x,y = songs.reshape((songs.shape[0], songs.shape[1])), range(songs.shape[0])"
   ]
  },
  {
   "cell_type": "code",
   "execution_count": 14,
   "metadata": {},
   "outputs": [],
   "source": [
    "# Create a new user:\n",
    "new_user_songs = ['Seven Nation Army', 'Already Dead']\n",
    "# Create a new user row (all 0s, then set selected songs to 1)\n",
    "new_user_row = np.zeros(songs.shape[1])\n",
    "for song in new_user_songs:\n",
    "    if song in df_songs.columns:\n",
    "        new_user_row[df_songs.columns.get_loc(song)] = 1"
   ]
  },
  {
   "cell_type": "code",
   "execution_count": 17,
   "metadata": {},
   "outputs": [
    {
     "data": {
      "text/plain": [
       "array([0., 0., 0., ..., 0., 0., 0.], shape=(13352,))"
      ]
     },
     "execution_count": 17,
     "metadata": {},
     "output_type": "execute_result"
    }
   ],
   "source": [
    "new_user_row"
   ]
  },
  {
   "cell_type": "code",
   "execution_count": 18,
   "metadata": {},
   "outputs": [],
   "source": [
    "list_of_songs = []"
   ]
  },
  {
   "cell_type": "code",
   "execution_count": null,
   "metadata": {},
   "outputs": [
    {
     "name": "stdout",
     "output_type": "stream",
     "text": [
      "1. Top Recommendations for New User:\n",
      "['All Work', 'So Close', 'Juicy', 'In My Arms', 'Nothing Less']\n",
      "2. Top Recommendations for New User:\n",
      "['Juicy', 'All Work', 'Nothing Less', 'We Got Love', 'Let Me See It']\n",
      "3. Top Recommendations for New User:\n",
      "['Juicy', 'All Work', 'Nothing Less', 'We Got Love', 'Bass']\n",
      "4. Top Recommendations for New User:\n",
      "['All Work', 'So Close', 'Juicy', 'In My Arms', 'Nothing Less']\n",
      "5. Top Recommendations for New User:\n",
      "['Juicy', 'All Work', 'Nothing Less', 'We Got Love', 'I']\n"
     ]
    }
   ],
   "source": [
    "for i in range(5):\n",
    "    # random seed\n",
    "    rand = int(random.random()*100)\n",
    "\n",
    "    # split into test and training data (20, 80)\n",
    "    x_train, x_test, y_train, y_test = train_test_split(x,y,test_size=0.2,random_state=rand)\n",
    "\n",
    "    # TruncatedSVD is a dimensionality reduction technique (similar to PCA)\n",
    "    svd = TruncatedSVD(n_components=4, n_iter=7, random_state=rand)\n",
    "\n",
    "    # fit the training data\n",
    "    # contains the transformed low-dimensional representation\n",
    "    train_mat = svd.fit_transform(x_train)\n",
    "\n",
    "    # dot multiplication of the training matrix and the svd components\n",
    "    # meaning: reconstructs an approximate version of the original data\n",
    "    approx_matrix = np.dot(train_mat, svd.components_)\n",
    "\n",
    "    # Projecting the new user onto the reduced feature space\n",
    "    new_user_mat = np.dot(new_user_row, svd.components_.T)\n",
    "\n",
    "    # Reconstructing predictions in the original space\n",
    "    new_predictions = np.dot(new_user_mat, svd.components_)\n",
    "\n",
    "    # Sorts indices of predicted ratings in descending order (highest ratings first)\n",
    "    recommendations = np.argsort(-new_predictions)\n",
    "\n",
    "    # Selects the top NUM_PRED recommendations\n",
    "    recommendations = [i for i in recommendations][:NUM_PRED]\n",
    "\n",
    "    # Mapping indices to song titles\n",
    "    recommended_songs = [df_songs.columns[i] for i in recommendations]\n",
    "\n",
    "    print(f\"{i+1}. Top Recommendations for New User:\")\n",
    "    print(recommended_songs)\n",
    "    for song in recommended_songs:\n",
    "        list_of_songs.append(song)"
   ]
  },
  {
   "cell_type": "markdown",
   "metadata": {},
   "source": [
    "### sorts the song recommendations "
   ]
  },
  {
   "cell_type": "markdown",
   "metadata": {},
   "source": [
    "##### set - gets rid of duplicates\n",
    "##### sorts the songs based on their frequency in list of songs st least frequent appears first"
   ]
  },
  {
   "cell_type": "code",
   "execution_count": 21,
   "metadata": {},
   "outputs": [
    {
     "name": "stdout",
     "output_type": "stream",
     "text": [
      "['All Work', 'So Close', 'Juicy', 'In My Arms', 'Nothing Less', 'Juicy', 'All Work', 'Nothing Less', 'We Got Love', 'Let Me See It', 'Juicy', 'All Work', 'Nothing Less', 'We Got Love', 'Bass', 'All Work', 'So Close', 'Juicy', 'In My Arms', 'Nothing Less', 'Juicy', 'All Work', 'Nothing Less', 'We Got Love', 'I']\n"
     ]
    }
   ],
   "source": [
    "res = sorted(set(list_of_songs), key = lambda ele: list_of_songs.count(ele))\n",
    "print(list_of_songs)"
   ]
  },
  {
   "cell_type": "code",
   "execution_count": 22,
   "metadata": {},
   "outputs": [],
   "source": [
    "top_songs = []"
   ]
  },
  {
   "cell_type": "code",
   "execution_count": 23,
   "metadata": {},
   "outputs": [
    {
     "name": "stdout",
     "output_type": "stream",
     "text": [
      "['Nothing Less', 'Juicy', 'All Work', 'We Got Love', 'In My Arms']\n"
     ]
    }
   ],
   "source": [
    "# res = sorted(set(list_of_songs), key = lambda ele: list_of_songs.count(ele))\n",
    "i = len(res) - 1\n",
    "while (i > len(res) - NUM_PRED - 1):\n",
    "    top_songs.append(res[i])\n",
    "    i = i - 1\n",
    "print(top_songs)"
   ]
  },
  {
   "cell_type": "code",
   "execution_count": 24,
   "metadata": {},
   "outputs": [
    {
     "name": "stdout",
     "output_type": "stream",
     "text": [
      "Songs closest to the new user: ['Girl On Fire', 'Who Will I Be', 'Blame It on the Boogie', 'Rock And Roll En La Plaza Del Pueblo - Live', 'Hipnosis']\n"
     ]
    }
   ],
   "source": [
    "from scipy.spatial.distance import euclidean\n",
    "\n",
    "# use features dataset for euclidean distance (find songs that have most similar features)\n",
    "\n",
    "# Euclidean distance to recommend songs based on how close they \n",
    "# are to the new user's preferences in latent space\n",
    "\n",
    "distances = []\n",
    "for i in range(train_mat.shape[0]):\n",
    "    dist = euclidean(new_user_mat, train_mat[i])\n",
    "    distances.append((df_songs.columns[i], dist))\n",
    "\n",
    "# Sort by smallest distance\n",
    "closest_songs_euc = sorted(distances, key=lambda x: x[1])[:NUM_PRED]\n",
    "print(\"Songs closest to the new user:\", [s[0] for s in closest_songs_euc])"
   ]
  },
  {
   "cell_type": "code",
   "execution_count": 25,
   "metadata": {},
   "outputs": [
    {
     "name": "stdout",
     "output_type": "stream",
     "text": [
      "Recommended Songs using Cosine Similarity: ['Girl On Fire', 'While My Guitar Gently Weeps', 'Los Malaventurados No Lloran', 'The Advent Of Panurge', 'In My Mind (feat. Georgi Kay) - Axwell Radio Edit']\n"
     ]
    }
   ],
   "source": [
    "from sklearn.metrics.pairwise import cosine_similarity\n",
    "\n",
    "# Cosine similarity: \n",
    "# Euclidean distance may not work well if the magnitude of vectors is very different, \n",
    "# so cosine similarity is often better for recommendation systems\n",
    "\n",
    "similarities = cosine_similarity(new_user_mat.reshape(1, -1), train_mat)\n",
    "recommended_indices = np.argsort(-similarities[0])[:NUM_PRED]\n",
    "recommended_songs_cos = [df_songs.columns[i] for i in recommended_indices]\n",
    "\n",
    "print(\"Recommended Songs using Cosine Similarity:\", recommended_songs_cos)"
   ]
  },
  {
   "cell_type": "code",
   "execution_count": 28,
   "metadata": {},
   "outputs": [
    {
     "ename": "NameError",
     "evalue": "name 'plt' is not defined",
     "output_type": "error",
     "traceback": [
      "\u001b[0;31m---------------------------------------------------------------------------\u001b[0m",
      "\u001b[0;31mNameError\u001b[0m                                 Traceback (most recent call last)",
      "Cell \u001b[0;32mIn[28], line 9\u001b[0m\n\u001b[1;32m      7\u001b[0m \u001b[38;5;66;03m# Create a Venn diagram\u001b[39;00m\n\u001b[1;32m      8\u001b[0m venn3([\u001b[38;5;28mset\u001b[39m(top_songs), \u001b[38;5;28mset\u001b[39m(recommended_songs_euc), \u001b[38;5;28mset\u001b[39m(recommended_songs_cos)], set_labels\u001b[38;5;241m=\u001b[39m(\u001b[38;5;124m'\u001b[39m\u001b[38;5;124mSVD\u001b[39m\u001b[38;5;124m'\u001b[39m, \u001b[38;5;124m'\u001b[39m\u001b[38;5;124mEuclidean\u001b[39m\u001b[38;5;124m'\u001b[39m, \u001b[38;5;124m'\u001b[39m\u001b[38;5;124mCosine\u001b[39m\u001b[38;5;124m'\u001b[39m))\n\u001b[0;32m----> 9\u001b[0m \u001b[43mplt\u001b[49m\u001b[38;5;241m.\u001b[39mshow()\n\u001b[1;32m     11\u001b[0m \u001b[38;5;28mprint\u001b[39m([\u001b[38;5;28mset\u001b[39m(top_songs)])\n\u001b[1;32m     12\u001b[0m \u001b[38;5;28mprint\u001b[39m([\u001b[38;5;28mset\u001b[39m(recommended_songs_euc)])\n",
      "\u001b[0;31mNameError\u001b[0m: name 'plt' is not defined"
     ]
    },
    {
     "data": {
      "image/png": "[encoded data removed]",
      "text/plain": [
       "<Figure size 640x480 with 1 Axes>"
      ]
     },
     "metadata": {},
     "output_type": "display_data"
    }
   ],
   "source": [
    "from matplotlib_venn import venn3\n",
    "\n",
    "# Exploring how similar the outputs from the three methods are (how many recommended songs overlap)\n",
    "\n",
    "recommended_songs_euc = [song[0] for song in closest_songs_euc]\n",
    "\n",
    "# Create a Venn diagram\n",
    "venn3([set(top_songs), set(recommended_songs_euc), set(recommended_songs_cos)], set_labels=('SVD', 'Euclidean', 'Cosine'))\n",
    "plt.show()\n",
    "\n",
    "print([set(top_songs)])\n",
    "print([set(recommended_songs_euc)])\n",
    "print([set(recommended_songs_cos)])"
   ]
  }
 ],
 "metadata": {
  "kernelspec": {
   "display_name": "Python 3",
   "language": "python",
   "name": "python3"
  },
  "language_info": {
   "codemirror_mode": {
    "name": "ipython",
    "version": 3
   },
   "file_extension": ".py",
   "mimetype": "text/x-python",
   "name": "python",
   "nbconvert_exporter": "python",
   "pygments_lexer": "ipython3",
   "version": "3.11.2"
  }
 },
 "nbformat": 4,
 "nbformat_minor": 2
}
