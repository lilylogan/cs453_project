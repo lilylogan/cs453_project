{
 "cells": [
  {
   "cell_type": "markdown",
   "metadata": {},
   "source": [
    "# Decision tree models!!\n",
    "\n",
    "## We will use scikit learn and pytorch\n",
    "### maybe compare them? see which one is best?\n",
    "#### edited by Lily and Eliza <3"
   ]
  },
  {
   "cell_type": "code",
   "execution_count": 10,
   "metadata": {},
   "outputs": [],
   "source": [
    "import pandas as pd \n",
    "import numpy as np\n",
    "import sklearn\n",
    "import torch"
   ]
  },
  {
   "cell_type": "markdown",
   "metadata": {},
   "source": [
    "##### import song dataset"
   ]
  },
  {
   "cell_type": "code",
   "execution_count": 4,
   "metadata": {},
   "outputs": [],
   "source": [
    "songs = pd.read_csv(\"cleaned_data/songs_cleaned.csv\")"
   ]
  },
  {
   "cell_type": "markdown",
   "metadata": {},
   "source": [
    "### split into train and test data (validation?)"
   ]
  },
  {
   "cell_type": "code",
   "execution_count": 5,
   "metadata": {},
   "outputs": [],
   "source": [
    "from sklearn.model_selection import train_test_split\n",
    "\n",
    "# Split into train and test sets first\n",
    "train_data, test_data = train_test_split(songs, test_size=0.2, random_state=42)\n",
    "\n",
    "# Further split the train set into train and validation sets\n",
    "train_data, val_data = train_test_split(train_data, test_size=0.25, random_state=42)\n",
    "# 0.25 x 0.8 = 0.2, so train/validation/test are 60%/20%/20%\n"
   ]
  },
  {
   "cell_type": "code",
   "execution_count": 6,
   "metadata": {},
   "outputs": [
    {
     "name": "stdout",
     "output_type": "stream",
     "text": [
      "Train set size: 12294\n",
      "Validation set size: 4098\n",
      "Test set size: 4098\n"
     ]
    }
   ],
   "source": [
    "print(f'Train set size: {len(train_data)}')\n",
    "print(f'Validation set size: {len(val_data)}')\n",
    "print(f'Test set size: {len(test_data)}')"
   ]
  },
  {
   "cell_type": "markdown",
   "metadata": {},
   "source": [
    "## now using skitlearn, make a decision tree :)"
   ]
  },
  {
   "cell_type": "code",
   "execution_count": 20,
   "metadata": {},
   "outputs": [],
   "source": [
    "from sklearn.tree import DecisionTreeClassifier\n",
    "from sklearn.metrics import accuracy_score, classification_report"
   ]
  },
  {
   "cell_type": "code",
   "execution_count": 9,
   "metadata": {},
   "outputs": [
    {
     "data": {
      "text/html": [
       "<div>\n",
       "<style scoped>\n",
       "    .dataframe tbody tr th:only-of-type {\n",
       "        vertical-align: middle;\n",
       "    }\n",
       "\n",
       "    .dataframe tbody tr th {\n",
       "        vertical-align: top;\n",
       "    }\n",
       "\n",
       "    .dataframe thead th {\n",
       "        text-align: right;\n",
       "    }\n",
       "</style>\n",
       "<table border=\"1\" class=\"dataframe\">\n",
       "  <thead>\n",
       "    <tr style=\"text-align: right;\">\n",
       "      <th></th>\n",
       "      <th>track_id</th>\n",
       "      <th>track_name</th>\n",
       "      <th>track_artist</th>\n",
       "      <th>track_popularity</th>\n",
       "      <th>track_album_id</th>\n",
       "      <th>track_album_name</th>\n",
       "      <th>track_album_release_date</th>\n",
       "      <th>playlist_name</th>\n",
       "      <th>playlist_id</th>\n",
       "      <th>playlist_genre</th>\n",
       "      <th>...</th>\n",
       "      <th>key</th>\n",
       "      <th>loudness</th>\n",
       "      <th>mode</th>\n",
       "      <th>speechiness</th>\n",
       "      <th>acousticness</th>\n",
       "      <th>instrumentalness</th>\n",
       "      <th>liveness</th>\n",
       "      <th>valence</th>\n",
       "      <th>tempo</th>\n",
       "      <th>duration_ms</th>\n",
       "    </tr>\n",
       "  </thead>\n",
       "  <tbody>\n",
       "    <tr>\n",
       "      <th>11915</th>\n",
       "      <td>7mR1iFQ21YjwNCeNioFjJI</td>\n",
       "      <td>Breakfast</td>\n",
       "      <td>Kai the Kid</td>\n",
       "      <td>34</td>\n",
       "      <td>1sOBGaSRGeHQUs6iANaqFh</td>\n",
       "      <td>Breakfast</td>\n",
       "      <td>2019-09-13</td>\n",
       "      <td>Great Pops</td>\n",
       "      <td>5SO7xYih5w8X5FEpKvU7Rt</td>\n",
       "      <td>latin</td>\n",
       "      <td>...</td>\n",
       "      <td>1</td>\n",
       "      <td>-6.950</td>\n",
       "      <td>1</td>\n",
       "      <td>0.1500</td>\n",
       "      <td>0.069100</td>\n",
       "      <td>0.000000</td>\n",
       "      <td>0.1660</td>\n",
       "      <td>0.2880</td>\n",
       "      <td>124.940</td>\n",
       "      <td>219873</td>\n",
       "    </tr>\n",
       "    <tr>\n",
       "      <th>1767</th>\n",
       "      <td>67LgNrbDlweZBZ8EtIpHgu</td>\n",
       "      <td>Culebra, Columna y Estatua</td>\n",
       "      <td>El Último Vecino</td>\n",
       "      <td>33</td>\n",
       "      <td>6GNXNgpYeF3X2SYhOP9qby</td>\n",
       "      <td>Tu Casa Nueva</td>\n",
       "      <td>2014-12-04</td>\n",
       "      <td>This Is: Javiera Mena</td>\n",
       "      <td>37i9dQZF1DWSOvcBNdfJ87</td>\n",
       "      <td>pop</td>\n",
       "      <td>...</td>\n",
       "      <td>5</td>\n",
       "      <td>-8.889</td>\n",
       "      <td>0</td>\n",
       "      <td>0.0364</td>\n",
       "      <td>0.000113</td>\n",
       "      <td>0.075600</td>\n",
       "      <td>0.1200</td>\n",
       "      <td>0.3330</td>\n",
       "      <td>169.992</td>\n",
       "      <td>282401</td>\n",
       "    </tr>\n",
       "    <tr>\n",
       "      <th>5822</th>\n",
       "      <td>7HFl64GKBtPTa5YoW7j4jL</td>\n",
       "      <td>All About U</td>\n",
       "      <td>2Pac</td>\n",
       "      <td>65</td>\n",
       "      <td>4CzT5ueFBRpbILw34HQYxi</td>\n",
       "      <td>All Eyez On Me</td>\n",
       "      <td>1996-02-13</td>\n",
       "      <td>90's Gangster Rap</td>\n",
       "      <td>1g3APxk2mLVNU2TuHCPli0</td>\n",
       "      <td>rap</td>\n",
       "      <td>...</td>\n",
       "      <td>2</td>\n",
       "      <td>-4.007</td>\n",
       "      <td>1</td>\n",
       "      <td>0.1410</td>\n",
       "      <td>0.065000</td>\n",
       "      <td>0.000000</td>\n",
       "      <td>0.3000</td>\n",
       "      <td>0.7660</td>\n",
       "      <td>103.201</td>\n",
       "      <td>276813</td>\n",
       "    </tr>\n",
       "    <tr>\n",
       "      <th>12610</th>\n",
       "      <td>4SH9JAYYSJlNAdP8PdZLCK</td>\n",
       "      <td>Now &amp; Forever</td>\n",
       "      <td>Ballin Entertainment</td>\n",
       "      <td>0</td>\n",
       "      <td>5L1xcowSxwzFUSJzvyMp48</td>\n",
       "      <td>Ultimate Freestyle Mega Mix</td>\n",
       "      <td>2008-04-20</td>\n",
       "      <td>Latin Hip Hop/Freestyle</td>\n",
       "      <td>2MYEUjX0YAI9dxrBDzoCK7</td>\n",
       "      <td>latin</td>\n",
       "      <td>...</td>\n",
       "      <td>10</td>\n",
       "      <td>-11.624</td>\n",
       "      <td>0</td>\n",
       "      <td>0.0516</td>\n",
       "      <td>0.004130</td>\n",
       "      <td>0.000002</td>\n",
       "      <td>0.0885</td>\n",
       "      <td>0.7970</td>\n",
       "      <td>129.584</td>\n",
       "      <td>148167</td>\n",
       "    </tr>\n",
       "    <tr>\n",
       "      <th>14675</th>\n",
       "      <td>6IievBse1PXM8OSR6GkjSs</td>\n",
       "      <td>Karma Police</td>\n",
       "      <td>Mother Falcon</td>\n",
       "      <td>31</td>\n",
       "      <td>6Pq7wbwhhZBUcpnvmgapys</td>\n",
       "      <td>MF Computer (Radiohead’s OK Computer Reimagined)</td>\n",
       "      <td>2014-03-18</td>\n",
       "      <td>Bluegrass Covers</td>\n",
       "      <td>37i9dQZF1DX56crgoe4TG3</td>\n",
       "      <td>r&amp;b</td>\n",
       "      <td>...</td>\n",
       "      <td>2</td>\n",
       "      <td>-14.419</td>\n",
       "      <td>1</td>\n",
       "      <td>0.0396</td>\n",
       "      <td>0.140000</td>\n",
       "      <td>0.019100</td>\n",
       "      <td>0.9180</td>\n",
       "      <td>0.0456</td>\n",
       "      <td>73.627</td>\n",
       "      <td>262724</td>\n",
       "    </tr>\n",
       "  </tbody>\n",
       "</table>\n",
       "<p>5 rows × 23 columns</p>\n",
       "</div>"
      ],
      "text/plain": [
       "                     track_id                  track_name  \\\n",
       "11915  7mR1iFQ21YjwNCeNioFjJI                   Breakfast   \n",
       "1767   67LgNrbDlweZBZ8EtIpHgu  Culebra, Columna y Estatua   \n",
       "5822   7HFl64GKBtPTa5YoW7j4jL                 All About U   \n",
       "12610  4SH9JAYYSJlNAdP8PdZLCK               Now & Forever   \n",
       "14675  6IievBse1PXM8OSR6GkjSs                Karma Police   \n",
       "\n",
       "               track_artist  track_popularity          track_album_id  \\\n",
       "11915           Kai the Kid                34  1sOBGaSRGeHQUs6iANaqFh   \n",
       "1767       El Último Vecino                33  6GNXNgpYeF3X2SYhOP9qby   \n",
       "5822                   2Pac                65  4CzT5ueFBRpbILw34HQYxi   \n",
       "12610  Ballin Entertainment                 0  5L1xcowSxwzFUSJzvyMp48   \n",
       "14675         Mother Falcon                31  6Pq7wbwhhZBUcpnvmgapys   \n",
       "\n",
       "                                       track_album_name  \\\n",
       "11915                                         Breakfast   \n",
       "1767                                      Tu Casa Nueva   \n",
       "5822                                     All Eyez On Me   \n",
       "12610                       Ultimate Freestyle Mega Mix   \n",
       "14675  MF Computer (Radiohead’s OK Computer Reimagined)   \n",
       "\n",
       "      track_album_release_date            playlist_name  \\\n",
       "11915               2019-09-13               Great Pops   \n",
       "1767                2014-12-04    This Is: Javiera Mena   \n",
       "5822                1996-02-13        90's Gangster Rap   \n",
       "12610               2008-04-20  Latin Hip Hop/Freestyle   \n",
       "14675               2014-03-18         Bluegrass Covers   \n",
       "\n",
       "                  playlist_id playlist_genre  ... key  loudness  mode  \\\n",
       "11915  5SO7xYih5w8X5FEpKvU7Rt          latin  ...   1    -6.950     1   \n",
       "1767   37i9dQZF1DWSOvcBNdfJ87            pop  ...   5    -8.889     0   \n",
       "5822   1g3APxk2mLVNU2TuHCPli0            rap  ...   2    -4.007     1   \n",
       "12610  2MYEUjX0YAI9dxrBDzoCK7          latin  ...  10   -11.624     0   \n",
       "14675  37i9dQZF1DX56crgoe4TG3            r&b  ...   2   -14.419     1   \n",
       "\n",
       "       speechiness  acousticness  instrumentalness  liveness  valence  \\\n",
       "11915       0.1500      0.069100          0.000000    0.1660   0.2880   \n",
       "1767        0.0364      0.000113          0.075600    0.1200   0.3330   \n",
       "5822        0.1410      0.065000          0.000000    0.3000   0.7660   \n",
       "12610       0.0516      0.004130          0.000002    0.0885   0.7970   \n",
       "14675       0.0396      0.140000          0.019100    0.9180   0.0456   \n",
       "\n",
       "         tempo  duration_ms  \n",
       "11915  124.940       219873  \n",
       "1767   169.992       282401  \n",
       "5822   103.201       276813  \n",
       "12610  129.584       148167  \n",
       "14675   73.627       262724  \n",
       "\n",
       "[5 rows x 23 columns]"
      ]
     },
     "execution_count": 9,
     "metadata": {},
     "output_type": "execute_result"
    }
   ],
   "source": [
    "train_data.head()"
   ]
  },
  {
   "cell_type": "markdown",
   "metadata": {},
   "source": [
    "### Identify the target catagory"
   ]
  },
  {
   "cell_type": "code",
   "execution_count": 12,
   "metadata": {},
   "outputs": [],
   "source": [
    "target = \"playlist_subgenre\""
   ]
  },
  {
   "cell_type": "markdown",
   "metadata": {},
   "source": [
    "### Split the data into X and Y\n",
    "#### note: getdummies is one hot encoding for the categorical variables"
   ]
  },
  {
   "cell_type": "code",
   "execution_count": 25,
   "metadata": {},
   "outputs": [],
   "source": [
    "x_train = pd.get_dummies(train_data.drop(target, axis=1))\n",
    "y_train = train_data[target]\n",
    "\n",
    "x_val = pd.get_dummies(val_data.drop(target, axis=1))\n",
    "y_val = val_data[target]\n",
    "\n",
    "x_test = pd.get_dummies(test_data.drop(target, axis=1))\n",
    "y_test = test_data[target]"
   ]
  },
  {
   "cell_type": "code",
   "execution_count": 28,
   "metadata": {},
   "outputs": [],
   "source": [
    "x_val = x_val.reindex(columns=x_train.columns, fill_value=0)\n",
    "x_test = x_test.reindex(columns=x_train.columns, fill_value=0)"
   ]
  },
  {
   "cell_type": "markdown",
   "metadata": {},
   "source": [
    "### train the tree!!"
   ]
  },
  {
   "cell_type": "code",
   "execution_count": 26,
   "metadata": {},
   "outputs": [
    {
     "data": {
      "text/html": [
       "<style>#sk-container-id-3 {color: black;}#sk-container-id-3 pre{padding: 0;}#sk-container-id-3 div.sk-toggleable {background-color: white;}#sk-container-id-3 label.sk-toggleable__label {cursor: pointer;display: block;width: 100%;margin-bottom: 0;padding: 0.3em;box-sizing: border-box;text-align: center;}#sk-container-id-3 label.sk-toggleable__label-arrow:before {content: \"▸\";float: left;margin-right: 0.25em;color: #696969;}#sk-container-id-3 label.sk-toggleable__label-arrow:hover:before {color: black;}#sk-container-id-3 div.sk-estimator:hover label.sk-toggleable__label-arrow:before {color: black;}#sk-container-id-3 div.sk-toggleable__content {max-height: 0;max-width: 0;overflow: hidden;text-align: left;background-color: #f0f8ff;}#sk-container-id-3 div.sk-toggleable__content pre {margin: 0.2em;color: black;border-radius: 0.25em;background-color: #f0f8ff;}#sk-container-id-3 input.sk-toggleable__control:checked~div.sk-toggleable__content {max-height: 200px;max-width: 100%;overflow: auto;}#sk-container-id-3 input.sk-toggleable__control:checked~label.sk-toggleable__label-arrow:before {content: \"▾\";}#sk-container-id-3 div.sk-estimator input.sk-toggleable__control:checked~label.sk-toggleable__label {background-color: #d4ebff;}#sk-container-id-3 div.sk-label input.sk-toggleable__control:checked~label.sk-toggleable__label {background-color: #d4ebff;}#sk-container-id-3 input.sk-hidden--visually {border: 0;clip: rect(1px 1px 1px 1px);clip: rect(1px, 1px, 1px, 1px);height: 1px;margin: -1px;overflow: hidden;padding: 0;position: absolute;width: 1px;}#sk-container-id-3 div.sk-estimator {font-family: monospace;background-color: #f0f8ff;border: 1px dotted black;border-radius: 0.25em;box-sizing: border-box;margin-bottom: 0.5em;}#sk-container-id-3 div.sk-estimator:hover {background-color: #d4ebff;}#sk-container-id-3 div.sk-parallel-item::after {content: \"\";width: 100%;border-bottom: 1px solid gray;flex-grow: 1;}#sk-container-id-3 div.sk-label:hover label.sk-toggleable__label {background-color: #d4ebff;}#sk-container-id-3 div.sk-serial::before {content: \"\";position: absolute;border-left: 1px solid gray;box-sizing: border-box;top: 0;bottom: 0;left: 50%;z-index: 0;}#sk-container-id-3 div.sk-serial {display: flex;flex-direction: column;align-items: center;background-color: white;padding-right: 0.2em;padding-left: 0.2em;position: relative;}#sk-container-id-3 div.sk-item {position: relative;z-index: 1;}#sk-container-id-3 div.sk-parallel {display: flex;align-items: stretch;justify-content: center;background-color: white;position: relative;}#sk-container-id-3 div.sk-item::before, #sk-container-id-3 div.sk-parallel-item::before {content: \"\";position: absolute;border-left: 1px solid gray;box-sizing: border-box;top: 0;bottom: 0;left: 50%;z-index: -1;}#sk-container-id-3 div.sk-parallel-item {display: flex;flex-direction: column;z-index: 1;position: relative;background-color: white;}#sk-container-id-3 div.sk-parallel-item:first-child::after {align-self: flex-end;width: 50%;}#sk-container-id-3 div.sk-parallel-item:last-child::after {align-self: flex-start;width: 50%;}#sk-container-id-3 div.sk-parallel-item:only-child::after {width: 0;}#sk-container-id-3 div.sk-dashed-wrapped {border: 1px dashed gray;margin: 0 0.4em 0.5em 0.4em;box-sizing: border-box;padding-bottom: 0.4em;background-color: white;}#sk-container-id-3 div.sk-label label {font-family: monospace;font-weight: bold;display: inline-block;line-height: 1.2em;}#sk-container-id-3 div.sk-label-container {text-align: center;}#sk-container-id-3 div.sk-container {/* jupyter's `normalize.less` sets `[hidden] { display: none; }` but bootstrap.min.css set `[hidden] { display: none !important; }` so we also need the `!important` here to be able to override the default hidden behavior on the sphinx rendered scikit-learn.org. See: https://github.com/scikit-learn/scikit-learn/issues/21755 */display: inline-block !important;position: relative;}#sk-container-id-3 div.sk-text-repr-fallback {display: none;}</style><div id=\"sk-container-id-3\" class=\"sk-top-container\"><div class=\"sk-text-repr-fallback\"><pre>DecisionTreeClassifier(random_state=0)</pre><b>In a Jupyter environment, please rerun this cell to show the HTML representation or trust the notebook. <br />On GitHub, the HTML representation is unable to render, please try loading this page with nbviewer.org.</b></div><div class=\"sk-container\" hidden><div class=\"sk-item\"><div class=\"sk-estimator sk-toggleable\"><input class=\"sk-toggleable__control sk-hidden--visually\" id=\"sk-estimator-id-3\" type=\"checkbox\" checked><label for=\"sk-estimator-id-3\" class=\"sk-toggleable__label sk-toggleable__label-arrow\">DecisionTreeClassifier</label><div class=\"sk-toggleable__content\"><pre>DecisionTreeClassifier(random_state=0)</pre></div></div></div></div></div>"
      ],
      "text/plain": [
       "DecisionTreeClassifier(random_state=0)"
      ]
     },
     "execution_count": 26,
     "metadata": {},
     "output_type": "execute_result"
    }
   ],
   "source": [
    "tree = DecisionTreeClassifier(random_state=0)\n",
    "tree.fit(x_train, y_train)"
   ]
  },
  {
   "cell_type": "markdown",
   "metadata": {},
   "source": [
    "### validation round"
   ]
  },
  {
   "cell_type": "code",
   "execution_count": 29,
   "metadata": {},
   "outputs": [
    {
     "name": "stdout",
     "output_type": "stream",
     "text": [
      "Validation Accuracy: 0.8723767691556857\n",
      "                           precision    recall  f1-score   support\n",
      "\n",
      "               album rock       0.95      0.91      0.93       149\n",
      "                 big room       0.87      0.82      0.84       142\n",
      "             classic rock       0.89      0.89      0.89       192\n",
      "                dance pop       0.98      0.96      0.97       164\n",
      "            electro house       0.71      0.63      0.67       167\n",
      "               electropop       0.93      0.97      0.95       190\n",
      "             gangster rap       0.96      0.94      0.95       172\n",
      "                hard rock       0.85      0.89      0.87       219\n",
      "                  hip hop       0.88      0.87      0.87       121\n",
      "                  hip pop       0.89      0.85      0.87       149\n",
      "          indie poptimism       0.97      0.98      0.97       206\n",
      "            latin hip hop       0.79      0.85      0.82       195\n",
      "                latin pop       0.83      0.81      0.82       140\n",
      "                 neo soul       0.84      0.90      0.87       225\n",
      "           new jack swing       0.90      0.89      0.90       182\n",
      "           permanent wave       0.98      0.96      0.97       170\n",
      "                  pop edm       0.67      0.74      0.70       155\n",
      "            post-teen pop       0.98      0.93      0.95       168\n",
      "progressive electro house       0.73      0.77      0.75       231\n",
      "                reggaeton       0.95      0.79      0.86       112\n",
      "         southern hip hop       0.89      0.94      0.91       247\n",
      "                     trap       0.93      0.83      0.88       100\n",
      "                 tropical       0.78      0.82      0.80       146\n",
      "       urban contemporary       0.92      0.87      0.89       156\n",
      "\n",
      "                 accuracy                           0.87      4098\n",
      "                macro avg       0.88      0.87      0.87      4098\n",
      "             weighted avg       0.87      0.87      0.87      4098\n",
      "\n"
     ]
    }
   ],
   "source": [
    "y_val_pred = tree.predict(x_val)\n",
    "val_accuracy = accuracy_score(y_val, y_val_pred)\n",
    "\n",
    "print(f'Validation Accuracy: {val_accuracy}')\n",
    "print(classification_report(y_val, y_val_pred))"
   ]
  },
  {
   "cell_type": "markdown",
   "metadata": {},
   "source": [
    "### now test the model"
   ]
  },
  {
   "cell_type": "code",
   "execution_count": 30,
   "metadata": {},
   "outputs": [
    {
     "name": "stdout",
     "output_type": "stream",
     "text": [
      "Validation Accuracy: 0.8723767691556857\n",
      "                           precision    recall  f1-score   support\n",
      "\n",
      "               album rock       0.95      0.95      0.95       159\n",
      "                 big room       0.90      0.78      0.83       147\n",
      "             classic rock       0.91      0.91      0.91       223\n",
      "                dance pop       0.97      0.94      0.95       128\n",
      "            electro house       0.70      0.66      0.68       165\n",
      "               electropop       0.88      0.94      0.90       172\n",
      "             gangster rap       0.94      0.89      0.92       159\n",
      "                hard rock       0.89      0.91      0.90       266\n",
      "                  hip hop       0.88      0.83      0.85       118\n",
      "                  hip pop       0.86      0.81      0.84       150\n",
      "          indie poptimism       0.95      0.93      0.94       245\n",
      "            latin hip hop       0.77      0.80      0.79       176\n",
      "                latin pop       0.82      0.82      0.82       146\n",
      "                 neo soul       0.83      0.88      0.85       243\n",
      "           new jack swing       0.90      0.88      0.89       202\n",
      "           permanent wave       0.98      0.94      0.96       172\n",
      "                  pop edm       0.75      0.79      0.77       151\n",
      "            post-teen pop       0.99      0.96      0.98       148\n",
      "progressive electro house       0.71      0.78      0.74       195\n",
      "                reggaeton       0.91      0.85      0.88       101\n",
      "         southern hip hop       0.86      0.93      0.89       228\n",
      "                     trap       0.89      0.86      0.87       105\n",
      "                 tropical       0.85      0.87      0.86       141\n",
      "       urban contemporary       0.92      0.89      0.91       158\n",
      "\n",
      "                 accuracy                           0.87      4098\n",
      "                macro avg       0.87      0.87      0.87      4098\n",
      "             weighted avg       0.87      0.87      0.87      4098\n",
      "\n"
     ]
    }
   ],
   "source": [
    "y_test_pred = tree.predict(x_test)\n",
    "test_accuracy = accuracy_score(y_test, y_test_pred)\n",
    "\n",
    "print(f'Validation Accuracy: {val_accuracy}')\n",
    "print(classification_report(y_test, y_test_pred))"
   ]
  }
 ],
 "metadata": {
  "kernelspec": {
   "display_name": "base",
   "language": "python",
   "name": "python3"
  },
  "language_info": {
   "codemirror_mode": {
    "name": "ipython",
    "version": 3
   },
   "file_extension": ".py",
   "mimetype": "text/x-python",
   "name": "python",
   "nbconvert_exporter": "python",
   "pygments_lexer": "ipython3",
   "version": "3.11.5"
  }
 },
 "nbformat": 4,
 "nbformat_minor": 2
}
